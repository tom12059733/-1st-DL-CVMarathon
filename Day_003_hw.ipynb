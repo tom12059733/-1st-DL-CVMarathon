{
 "cells": [
  {
   "cell_type": "markdown",
   "metadata": {
    "colab_type": "text",
    "id": "R7bZ26KMfVq-"
   },
   "source": [
    "# Julia 套件管理 (Package Management)\n",
    "\n",
    "## Day 003 作業\n",
    "\n",
    "在接下來的課程中，我們還會用到許多不同套件，請在今天的作業中先行安裝下列套件：`CSV.jl` （將會在資料操作的單元介紹）。"
   ]
  },
  {
   "cell_type": "markdown",
   "metadata": {
    "colab_type": "text",
    "id": "BUE-G-svfVrA"
   },
   "source": [
    "### 指定安裝套件及版本\n",
    "\n",
    "今日作業請以 Functional API 模式進行套件安裝，並且指定安裝 0.5.14 版。\n",
    "\n",
    "安裝完成後請呼叫 `Pkg.installed()` 函式檢查已安裝的版本。"
   ]
  },
  {
   "cell_type": "markdown",
   "metadata": {
    "colab_type": "text",
    "id": "bfI9-mD2fVrE"
   },
   "source": [
    "### 不指定安裝版本"
   ]
  },
  {
   "cell_type": "code",
   "execution_count": 1,
   "metadata": {
    "colab": {},
    "colab_type": "code",
    "id": "lNyHHDRVfVrF",
    "outputId": "7f27bf50-132d-43f2-c6db-c123fa4be08d"
   },
   "outputs": [
    {
     "name": "stdout",
     "output_type": "stream",
     "text": [
      "\u001b[32m\u001b[1m  Updating\u001b[22m\u001b[39m registry at `C:\\Users\\TOM\\.julia\\registries\\General`\n",
      "\u001b[32m\u001b[1m  Updating\u001b[22m\u001b[39m git-repo `https://github.com/JuliaRegistries/General.git`\n",
      "\u001b[?25l\u001b[2K\u001b[?25h\u001b[32m\u001b[1m Resolving\u001b[22m\u001b[39m package versions...\n",
      "\u001b[32m\u001b[1m Installed\u001b[22m\u001b[39m WeakRefStrings ─ v0.6.2\n",
      "\u001b[32m\u001b[1m Installed\u001b[22m\u001b[39m FilePathsBase ── v0.7.0\n",
      "\u001b[32m\u001b[1m Installed\u001b[22m\u001b[39m CSV ──────────── v0.5.26\n",
      "\u001b[32m\u001b[1m  Updating\u001b[22m\u001b[39m `C:\\Users\\TOM\\.julia\\environments\\v1.3\\Project.toml`\n",
      " \u001b[90m [336ed68f]\u001b[39m\u001b[92m + CSV v0.5.26\u001b[39m\n",
      "\u001b[32m\u001b[1m  Updating\u001b[22m\u001b[39m `C:\\Users\\TOM\\.julia\\environments\\v1.3\\Manifest.toml`\n",
      " \u001b[90m [336ed68f]\u001b[39m\u001b[92m + CSV v0.5.26\u001b[39m\n",
      " \u001b[90m [48062228]\u001b[39m\u001b[92m + FilePathsBase v0.7.0\u001b[39m\n",
      " \u001b[90m [ea10d353]\u001b[39m\u001b[92m + WeakRefStrings v0.6.2\u001b[39m\n"
     ]
    }
   ],
   "source": [
    "using Pkg\n",
    "\n",
    "Pkg.add(\"CSV\")"
   ]
  },
  {
   "cell_type": "code",
   "execution_count": 2,
   "metadata": {
    "colab": {},
    "colab_type": "code",
    "id": "R80M1GgMfVrI"
   },
   "outputs": [
    {
     "name": "stdout",
     "output_type": "stream",
     "text": [
      "\u001b[32m\u001b[1m Resolving\u001b[22m\u001b[39m package versions...\n"
     ]
    },
    {
     "ename": "Pkg.Types.ResolverError",
     "evalue": "Unsatisfiable requirements detected for package Tables [bd369af6]:\n Tables [bd369af6] log:\n ├─possible versions are: [0.1.0-0.1.15, 0.1.17-0.1.19, 0.2.0-0.2.11, 1.0.0-1.0.3] or uninstalled\n ├─restricted by compatibility requirements with CSV [336ed68f] to versions: [0.1.0-0.1.15, 0.1.17-0.1.19, 0.2.0-0.2.11]\n │ └─CSV [336ed68f] log:\n │   ├─possible versions are: [0.3.0-0.3.1, 0.4.0-0.4.3, 0.5.0-0.5.26] or uninstalled\n │   └─restricted to versions 0.5.14 by an explicit requirement, leaving only versions 0.5.14\n └─restricted by compatibility requirements with DataFrames [a93c6f00] to versions: 1.0.0-1.0.3 — no versions left\n   └─DataFrames [a93c6f00] log:\n     ├─possible versions are: [0.11.7, 0.12.0, 0.13.0-0.13.1, 0.14.0-0.14.1, 0.15.0-0.15.2, 0.16.0, 0.17.0-0.17.1, 0.18.0-0.18.4, 0.19.0-0.19.4, 0.20.0-0.20.2] or uninstalled\n     └─restricted to versions 0.20.2 by an explicit requirement, leaving only versions 0.20.2",
     "output_type": "error",
     "traceback": [
      "Unsatisfiable requirements detected for package Tables [bd369af6]:\n Tables [bd369af6] log:\n ├─possible versions are: [0.1.0-0.1.15, 0.1.17-0.1.19, 0.2.0-0.2.11, 1.0.0-1.0.3] or uninstalled\n ├─restricted by compatibility requirements with CSV [336ed68f] to versions: [0.1.0-0.1.15, 0.1.17-0.1.19, 0.2.0-0.2.11]\n │ └─CSV [336ed68f] log:\n │   ├─possible versions are: [0.3.0-0.3.1, 0.4.0-0.4.3, 0.5.0-0.5.26] or uninstalled\n │   └─restricted to versions 0.5.14 by an explicit requirement, leaving only versions 0.5.14\n └─restricted by compatibility requirements with DataFrames [a93c6f00] to versions: 1.0.0-1.0.3 — no versions left\n   └─DataFrames [a93c6f00] log:\n     ├─possible versions are: [0.11.7, 0.12.0, 0.13.0-0.13.1, 0.14.0-0.14.1, 0.15.0-0.15.2, 0.16.0, 0.17.0-0.17.1, 0.18.0-0.18.4, 0.19.0-0.19.4, 0.20.0-0.20.2] or uninstalled\n     └─restricted to versions 0.20.2 by an explicit requirement, leaving only versions 0.20.2",
      "",
      "Stacktrace:",
      " [1] #propagate_constraints!#61(::Bool, ::typeof(Pkg.GraphType.propagate_constraints!), ::Pkg.GraphType.Graph, ::Set{Int64}) at D:\\buildbot\\worker\\package_win64\\build\\usr\\share\\julia\\stdlib\\v1.3\\Pkg\\src\\GraphType.jl:1007",
      " [2] propagate_constraints! at D:\\buildbot\\worker\\package_win64\\build\\usr\\share\\julia\\stdlib\\v1.3\\Pkg\\src\\GraphType.jl:948 [inlined]",
      " [3] #simplify_graph!#121(::Bool, ::typeof(Pkg.GraphType.simplify_graph!), ::Pkg.GraphType.Graph, ::Set{Int64}) at D:\\buildbot\\worker\\package_win64\\build\\usr\\share\\julia\\stdlib\\v1.3\\Pkg\\src\\GraphType.jl:1462",
      " [4] simplify_graph! at D:\\buildbot\\worker\\package_win64\\build\\usr\\share\\julia\\stdlib\\v1.3\\Pkg\\src\\GraphType.jl:1462 [inlined] (repeats 2 times)",
      " [5] resolve_versions!(::Pkg.Types.Context, ::Array{Pkg.Types.PackageSpec,1}) at D:\\buildbot\\worker\\package_win64\\build\\usr\\share\\julia\\stdlib\\v1.3\\Pkg\\src\\Operations.jl:321",
      " [6] #add#112(::Bool, ::Pkg.BinaryPlatforms.Windows, ::typeof(Pkg.Operations.add), ::Pkg.Types.Context, ::Array{Pkg.Types.PackageSpec,1}, ::Array{Base.UUID,1}) at D:\\buildbot\\worker\\package_win64\\build\\usr\\share\\julia\\stdlib\\v1.3\\Pkg\\src\\Operations.jl:1010",
      " [7] #add at .\\none:0 [inlined]",
      " [8] #add#25(::Bool, ::Pkg.BinaryPlatforms.Windows, ::Base.Iterators.Pairs{Union{},Union{},Tuple{},NamedTuple{(),Tuple{}}}, ::typeof(Pkg.API.add), ::Pkg.Types.Context, ::Array{Pkg.Types.PackageSpec,1}) at D:\\buildbot\\worker\\package_win64\\build\\usr\\share\\julia\\stdlib\\v1.3\\Pkg\\src\\API.jl:102",
      " [9] add(::Pkg.Types.Context, ::Array{Pkg.Types.PackageSpec,1}) at D:\\buildbot\\worker\\package_win64\\build\\usr\\share\\julia\\stdlib\\v1.3\\Pkg\\src\\API.jl:72",
      " [10] #add#24 at D:\\buildbot\\worker\\package_win64\\build\\usr\\share\\julia\\stdlib\\v1.3\\Pkg\\src\\API.jl:69 [inlined]",
      " [11] add at D:\\buildbot\\worker\\package_win64\\build\\usr\\share\\julia\\stdlib\\v1.3\\Pkg\\src\\API.jl:69 [inlined]",
      " [12] #add#20 at D:\\buildbot\\worker\\package_win64\\build\\usr\\share\\julia\\stdlib\\v1.3\\Pkg\\src\\API.jl:66 [inlined]",
      " [13] add(::Pkg.Types.PackageSpec) at D:\\buildbot\\worker\\package_win64\\build\\usr\\share\\julia\\stdlib\\v1.3\\Pkg\\src\\API.jl:66",
      " [14] top-level scope at In[2]:1"
     ]
    }
   ],
   "source": [
    "Pkg.add(PackageSpec(name=\"CSV\", version=\"0.5.14\"))"
   ]
  },
  {
   "cell_type": "code",
   "execution_count": 3,
   "metadata": {},
   "outputs": [
    {
     "data": {
      "text/plain": [
       "Dict{String,Union{Nothing, VersionNumber}} with 4 entries:\n",
       "  \"CSV\"        => v\"0.5.26\"\n",
       "  \"IJulia\"     => v\"1.21.1\"\n",
       "  \"DataFrames\" => v\"0.20.2\"\n",
       "  \"PyCall\"     => v\"1.91.4\""
      ]
     },
     "execution_count": 3,
     "metadata": {},
     "output_type": "execute_result"
    }
   ],
   "source": [
    "Pkg.installed()"
   ]
  },
  {
   "cell_type": "code",
   "execution_count": 4,
   "metadata": {},
   "outputs": [
    {
     "name": "stdout",
     "output_type": "stream",
     "text": [
      "\u001b[32m\u001b[1m  Updating\u001b[22m\u001b[39m `C:\\Users\\TOM\\.julia\\environments\\v1.3\\Project.toml`\n",
      " \u001b[90m [336ed68f]\u001b[39m\u001b[91m - CSV v0.5.26\u001b[39m\n",
      "\u001b[32m\u001b[1m  Updating\u001b[22m\u001b[39m `C:\\Users\\TOM\\.julia\\environments\\v1.3\\Manifest.toml`\n",
      " \u001b[90m [336ed68f]\u001b[39m\u001b[91m - CSV v0.5.26\u001b[39m\n",
      " \u001b[90m [48062228]\u001b[39m\u001b[91m - FilePathsBase v0.7.0\u001b[39m\n",
      " \u001b[90m [ea10d353]\u001b[39m\u001b[91m - WeakRefStrings v0.6.2\u001b[39m\n"
     ]
    }
   ],
   "source": [
    "Pkg.rm(\"CSV\")"
   ]
  },
  {
   "cell_type": "code",
   "execution_count": 5,
   "metadata": {},
   "outputs": [
    {
     "data": {
      "text/plain": [
       "Dict{String,Union{Nothing, VersionNumber}} with 3 entries:\n",
       "  \"IJulia\"     => v\"1.21.1\"\n",
       "  \"DataFrames\" => v\"0.20.2\"\n",
       "  \"PyCall\"     => v\"1.91.4\""
      ]
     },
     "execution_count": 5,
     "metadata": {},
     "output_type": "execute_result"
    }
   ],
   "source": [
    "Pkg.installed()"
   ]
  },
  {
   "cell_type": "code",
   "execution_count": 6,
   "metadata": {},
   "outputs": [
    {
     "name": "stdout",
     "output_type": "stream",
     "text": [
      "\u001b[32m\u001b[1m Resolving\u001b[22m\u001b[39m package versions...\n"
     ]
    },
    {
     "ename": "Pkg.Types.ResolverError",
     "evalue": "Unsatisfiable requirements detected for package Tables [bd369af6]:\n Tables [bd369af6] log:\n ├─possible versions are: [0.1.0-0.1.15, 0.1.17-0.1.19, 0.2.0-0.2.11, 1.0.0-1.0.3] or uninstalled\n ├─restricted by compatibility requirements with CSV [336ed68f] to versions: [0.1.0-0.1.15, 0.1.17-0.1.19, 0.2.0-0.2.11]\n │ └─CSV [336ed68f] log:\n │   ├─possible versions are: [0.3.0-0.3.1, 0.4.0-0.4.3, 0.5.0-0.5.26] or uninstalled\n │   └─restricted to versions 0.5.14 by an explicit requirement, leaving only versions 0.5.14\n └─restricted by compatibility requirements with DataFrames [a93c6f00] to versions: 1.0.0-1.0.3 — no versions left\n   └─DataFrames [a93c6f00] log:\n     ├─possible versions are: [0.11.7, 0.12.0, 0.13.0-0.13.1, 0.14.0-0.14.1, 0.15.0-0.15.2, 0.16.0, 0.17.0-0.17.1, 0.18.0-0.18.4, 0.19.0-0.19.4, 0.20.0-0.20.2] or uninstalled\n     └─restricted to versions 0.20.2 by an explicit requirement, leaving only versions 0.20.2",
     "output_type": "error",
     "traceback": [
      "Unsatisfiable requirements detected for package Tables [bd369af6]:\n Tables [bd369af6] log:\n ├─possible versions are: [0.1.0-0.1.15, 0.1.17-0.1.19, 0.2.0-0.2.11, 1.0.0-1.0.3] or uninstalled\n ├─restricted by compatibility requirements with CSV [336ed68f] to versions: [0.1.0-0.1.15, 0.1.17-0.1.19, 0.2.0-0.2.11]\n │ └─CSV [336ed68f] log:\n │   ├─possible versions are: [0.3.0-0.3.1, 0.4.0-0.4.3, 0.5.0-0.5.26] or uninstalled\n │   └─restricted to versions 0.5.14 by an explicit requirement, leaving only versions 0.5.14\n └─restricted by compatibility requirements with DataFrames [a93c6f00] to versions: 1.0.0-1.0.3 — no versions left\n   └─DataFrames [a93c6f00] log:\n     ├─possible versions are: [0.11.7, 0.12.0, 0.13.0-0.13.1, 0.14.0-0.14.1, 0.15.0-0.15.2, 0.16.0, 0.17.0-0.17.1, 0.18.0-0.18.4, 0.19.0-0.19.4, 0.20.0-0.20.2] or uninstalled\n     └─restricted to versions 0.20.2 by an explicit requirement, leaving only versions 0.20.2",
      "",
      "Stacktrace:",
      " [1] #propagate_constraints!#61(::Bool, ::typeof(Pkg.GraphType.propagate_constraints!), ::Pkg.GraphType.Graph, ::Set{Int64}) at D:\\buildbot\\worker\\package_win64\\build\\usr\\share\\julia\\stdlib\\v1.3\\Pkg\\src\\GraphType.jl:1007",
      " [2] propagate_constraints! at D:\\buildbot\\worker\\package_win64\\build\\usr\\share\\julia\\stdlib\\v1.3\\Pkg\\src\\GraphType.jl:948 [inlined]",
      " [3] #simplify_graph!#121(::Bool, ::typeof(Pkg.GraphType.simplify_graph!), ::Pkg.GraphType.Graph, ::Set{Int64}) at D:\\buildbot\\worker\\package_win64\\build\\usr\\share\\julia\\stdlib\\v1.3\\Pkg\\src\\GraphType.jl:1462",
      " [4] simplify_graph! at D:\\buildbot\\worker\\package_win64\\build\\usr\\share\\julia\\stdlib\\v1.3\\Pkg\\src\\GraphType.jl:1462 [inlined] (repeats 2 times)",
      " [5] resolve_versions!(::Pkg.Types.Context, ::Array{Pkg.Types.PackageSpec,1}) at D:\\buildbot\\worker\\package_win64\\build\\usr\\share\\julia\\stdlib\\v1.3\\Pkg\\src\\Operations.jl:321",
      " [6] #add#112(::Bool, ::Pkg.BinaryPlatforms.Windows, ::typeof(Pkg.Operations.add), ::Pkg.Types.Context, ::Array{Pkg.Types.PackageSpec,1}, ::Array{Base.UUID,1}) at D:\\buildbot\\worker\\package_win64\\build\\usr\\share\\julia\\stdlib\\v1.3\\Pkg\\src\\Operations.jl:1010",
      " [7] #add at .\\none:0 [inlined]",
      " [8] #add#25(::Bool, ::Pkg.BinaryPlatforms.Windows, ::Base.Iterators.Pairs{Union{},Union{},Tuple{},NamedTuple{(),Tuple{}}}, ::typeof(Pkg.API.add), ::Pkg.Types.Context, ::Array{Pkg.Types.PackageSpec,1}) at D:\\buildbot\\worker\\package_win64\\build\\usr\\share\\julia\\stdlib\\v1.3\\Pkg\\src\\API.jl:102",
      " [9] add(::Pkg.Types.Context, ::Array{Pkg.Types.PackageSpec,1}) at D:\\buildbot\\worker\\package_win64\\build\\usr\\share\\julia\\stdlib\\v1.3\\Pkg\\src\\API.jl:72",
      " [10] #add#24 at D:\\buildbot\\worker\\package_win64\\build\\usr\\share\\julia\\stdlib\\v1.3\\Pkg\\src\\API.jl:69 [inlined]",
      " [11] add at D:\\buildbot\\worker\\package_win64\\build\\usr\\share\\julia\\stdlib\\v1.3\\Pkg\\src\\API.jl:69 [inlined]",
      " [12] #add#20 at D:\\buildbot\\worker\\package_win64\\build\\usr\\share\\julia\\stdlib\\v1.3\\Pkg\\src\\API.jl:66 [inlined]",
      " [13] add(::Pkg.Types.PackageSpec) at D:\\buildbot\\worker\\package_win64\\build\\usr\\share\\julia\\stdlib\\v1.3\\Pkg\\src\\API.jl:66",
      " [14] top-level scope at In[6]:1"
     ]
    }
   ],
   "source": [
    "Pkg.add(PackageSpec(name=\"CSV\", version=\"0.5.14\"))"
   ]
  },
  {
   "cell_type": "code",
   "execution_count": 7,
   "metadata": {},
   "outputs": [
    {
     "data": {
      "text/plain": [
       "Dict{String,Union{Nothing, VersionNumber}} with 3 entries:\n",
       "  \"IJulia\"     => v\"1.21.1\"\n",
       "  \"DataFrames\" => v\"0.20.2\"\n",
       "  \"PyCall\"     => v\"1.91.4\""
      ]
     },
     "execution_count": 7,
     "metadata": {},
     "output_type": "execute_result"
    }
   ],
   "source": [
    "Pkg.installed()"
   ]
  },
  {
   "cell_type": "code",
   "execution_count": 9,
   "metadata": {},
   "outputs": [
    {
     "name": "stdout",
     "output_type": "stream",
     "text": [
      "\u001b[32m\u001b[1m  Updating\u001b[22m\u001b[39m `C:\\Users\\TOM\\.julia\\environments\\v1.3\\Project.toml`\n",
      " \u001b[90m [a93c6f00]\u001b[39m\u001b[91m - DataFrames v0.20.2\u001b[39m\n",
      "\u001b[32m\u001b[1m  Updating\u001b[22m\u001b[39m `C:\\Users\\TOM\\.julia\\environments\\v1.3\\Manifest.toml`\n",
      " \u001b[90m [324d7699]\u001b[39m\u001b[91m - CategoricalArrays v0.7.7\u001b[39m\n",
      " \u001b[90m [34da2185]\u001b[39m\u001b[91m - Compat v3.8.0\u001b[39m\n",
      " \u001b[90m [9a962f9c]\u001b[39m\u001b[91m - DataAPI v1.1.0\u001b[39m\n",
      " \u001b[90m [a93c6f00]\u001b[39m\u001b[91m - DataFrames v0.20.2\u001b[39m\n",
      " \u001b[90m [864edb3b]\u001b[39m\u001b[91m - DataStructures v0.17.10\u001b[39m\n",
      " \u001b[90m [e2d170a0]\u001b[39m\u001b[91m - DataValueInterfaces v1.0.0\u001b[39m\n",
      " \u001b[90m [41ab1584]\u001b[39m\u001b[91m - InvertedIndices v1.0.0\u001b[39m\n",
      " \u001b[90m [82899510]\u001b[39m\u001b[91m - IteratorInterfaceExtensions v1.0.0\u001b[39m\n",
      " \u001b[90m [e1d29d7a]\u001b[39m\u001b[91m - Missings v0.4.3\u001b[39m\n",
      " \u001b[90m [bac558e1]\u001b[39m\u001b[91m - OrderedCollections v1.1.0\u001b[39m\n",
      " \u001b[90m [2dfb63ee]\u001b[39m\u001b[91m - PooledArrays v0.5.3\u001b[39m\n",
      " \u001b[90m [189a3867]\u001b[39m\u001b[91m - Reexport v0.2.0\u001b[39m\n",
      " \u001b[90m [a2af1166]\u001b[39m\u001b[91m - SortingAlgorithms v0.3.1\u001b[39m\n",
      " \u001b[90m [3783bdb8]\u001b[39m\u001b[91m - TableTraits v1.0.0\u001b[39m\n",
      " \u001b[90m [bd369af6]\u001b[39m\u001b[91m - Tables v1.0.3\u001b[39m\n",
      " \u001b[90m [8bb1440f]\u001b[39m\u001b[91m - DelimitedFiles \u001b[39m\n",
      " \u001b[90m [9fa8497b]\u001b[39m\u001b[91m - Future \u001b[39m\n",
      " \u001b[90m [1a1011a3]\u001b[39m\u001b[91m - SharedArrays \u001b[39m\n",
      " \u001b[90m [2f01184e]\u001b[39m\u001b[91m - SparseArrays \u001b[39m\n",
      " \u001b[90m [10745b16]\u001b[39m\u001b[91m - Statistics \u001b[39m\n"
     ]
    }
   ],
   "source": [
    "Pkg.rm(\"DataFrames\")"
   ]
  },
  {
   "cell_type": "code",
   "execution_count": 10,
   "metadata": {},
   "outputs": [
    {
     "name": "stdout",
     "output_type": "stream",
     "text": [
      "\u001b[32m\u001b[1m  Updating\u001b[22m\u001b[39m `C:\\Users\\TOM\\.julia\\environments\\v1.3\\Project.toml`\n",
      " \u001b[90m [438e738f]\u001b[39m\u001b[91m - PyCall v1.91.4\u001b[39m\n",
      "\u001b[32m\u001b[1m  Updating\u001b[22m\u001b[39m `C:\\Users\\TOM\\.julia\\environments\\v1.3\\Manifest.toml`\n",
      " \u001b[90m [1914dd2f]\u001b[39m\u001b[91m - MacroTools v0.5.5\u001b[39m\n",
      " \u001b[90m [438e738f]\u001b[39m\u001b[91m - PyCall v1.91.4\u001b[39m\n",
      " \u001b[90m [37e2e46d]\u001b[39m\u001b[91m - LinearAlgebra \u001b[39m\n"
     ]
    }
   ],
   "source": [
    "Pkg.rm(\"PyCall\")"
   ]
  },
  {
   "cell_type": "code",
   "execution_count": 11,
   "metadata": {},
   "outputs": [
    {
     "data": {
      "text/plain": [
       "Dict{String,Union{Nothing, VersionNumber}} with 1 entry:\n",
       "  \"IJulia\" => v\"1.21.1\""
      ]
     },
     "execution_count": 11,
     "metadata": {},
     "output_type": "execute_result"
    }
   ],
   "source": [
    "Pkg.installed()"
   ]
  },
  {
   "cell_type": "code",
   "execution_count": 12,
   "metadata": {},
   "outputs": [
    {
     "name": "stdout",
     "output_type": "stream",
     "text": [
      "\u001b[32m\u001b[1m Resolving\u001b[22m\u001b[39m package versions...\n",
      "\u001b[32m\u001b[1m Installed\u001b[22m\u001b[39m Tables ──────── v0.2.11\n",
      "\u001b[32m\u001b[1m Installed\u001b[22m\u001b[39m FillArrays ──── v0.7.4\n",
      "\u001b[32m\u001b[1m Installed\u001b[22m\u001b[39m FilePathsBase ─ v0.6.2\n",
      "\u001b[32m\u001b[1m Installed\u001b[22m\u001b[39m LazyArrays ──── v0.12.3\n",
      "\u001b[32m\u001b[1m Installed\u001b[22m\u001b[39m StaticArrays ── v0.11.1\n",
      "\u001b[32m\u001b[1m Installed\u001b[22m\u001b[39m DataFrames ──── v0.20.0\n",
      "\u001b[32m\u001b[1m Installed\u001b[22m\u001b[39m CSV ─────────── v0.5.14\n",
      "\u001b[32m\u001b[1m  Updating\u001b[22m\u001b[39m `C:\\Users\\TOM\\.julia\\environments\\v1.3\\Project.toml`\n",
      " \u001b[90m [336ed68f]\u001b[39m\u001b[92m + CSV v0.5.14\u001b[39m\n",
      "\u001b[32m\u001b[1m  Updating\u001b[22m\u001b[39m `C:\\Users\\TOM\\.julia\\environments\\v1.3\\Manifest.toml`\n",
      " \u001b[90m [336ed68f]\u001b[39m\u001b[92m + CSV v0.5.14\u001b[39m\n",
      " \u001b[90m [324d7699]\u001b[39m\u001b[92m + CategoricalArrays v0.7.7\u001b[39m\n",
      " \u001b[90m [34da2185]\u001b[39m\u001b[92m + Compat v3.8.0\u001b[39m\n",
      " \u001b[90m [9a962f9c]\u001b[39m\u001b[92m + DataAPI v1.1.0\u001b[39m\n",
      " \u001b[90m [a93c6f00]\u001b[39m\u001b[92m + DataFrames v0.20.0\u001b[39m\n",
      " \u001b[90m [864edb3b]\u001b[39m\u001b[92m + DataStructures v0.17.10\u001b[39m\n",
      " \u001b[90m [e2d170a0]\u001b[39m\u001b[92m + DataValueInterfaces v1.0.0\u001b[39m\n",
      " \u001b[90m [48062228]\u001b[39m\u001b[92m + FilePathsBase v0.6.2\u001b[39m\n",
      " \u001b[90m [1a297f60]\u001b[39m\u001b[92m + FillArrays v0.7.4\u001b[39m\n",
      " \u001b[90m [41ab1584]\u001b[39m\u001b[92m + InvertedIndices v1.0.0\u001b[39m\n",
      " \u001b[90m [82899510]\u001b[39m\u001b[92m + IteratorInterfaceExtensions v1.0.0\u001b[39m\n",
      " \u001b[90m [5078a376]\u001b[39m\u001b[92m + LazyArrays v0.12.3\u001b[39m\n",
      " \u001b[90m [1914dd2f]\u001b[39m\u001b[92m + MacroTools v0.5.5\u001b[39m\n",
      " \u001b[90m [e1d29d7a]\u001b[39m\u001b[92m + Missings v0.4.3\u001b[39m\n",
      " \u001b[90m [bac558e1]\u001b[39m\u001b[92m + OrderedCollections v1.1.0\u001b[39m\n",
      " \u001b[90m [2dfb63ee]\u001b[39m\u001b[92m + PooledArrays v0.5.3\u001b[39m\n",
      " \u001b[90m [189a3867]\u001b[39m\u001b[92m + Reexport v0.2.0\u001b[39m\n",
      " \u001b[90m [a2af1166]\u001b[39m\u001b[92m + SortingAlgorithms v0.3.1\u001b[39m\n",
      " \u001b[90m [90137ffa]\u001b[39m\u001b[92m + StaticArrays v0.11.1\u001b[39m\n",
      " \u001b[90m [3783bdb8]\u001b[39m\u001b[92m + TableTraits v1.0.0\u001b[39m\n",
      " \u001b[90m [bd369af6]\u001b[39m\u001b[92m + Tables v0.2.11\u001b[39m\n",
      " \u001b[90m [ea10d353]\u001b[39m\u001b[92m + WeakRefStrings v0.6.2\u001b[39m\n",
      " \u001b[90m [8bb1440f]\u001b[39m\u001b[92m + DelimitedFiles \u001b[39m\n",
      " \u001b[90m [9fa8497b]\u001b[39m\u001b[92m + Future \u001b[39m\n",
      " \u001b[90m [37e2e46d]\u001b[39m\u001b[92m + LinearAlgebra \u001b[39m\n",
      " \u001b[90m [9abbd945]\u001b[39m\u001b[92m + Profile \u001b[39m\n",
      " \u001b[90m [1a1011a3]\u001b[39m\u001b[92m + SharedArrays \u001b[39m\n",
      " \u001b[90m [2f01184e]\u001b[39m\u001b[92m + SparseArrays \u001b[39m\n",
      " \u001b[90m [10745b16]\u001b[39m\u001b[92m + Statistics \u001b[39m\n"
     ]
    }
   ],
   "source": [
    "Pkg.add(PackageSpec(name=\"CSV\", version=\"0.5.14\"))"
   ]
  },
  {
   "cell_type": "code",
   "execution_count": 13,
   "metadata": {},
   "outputs": [
    {
     "data": {
      "text/plain": [
       "Dict{String,Union{Nothing, VersionNumber}} with 2 entries:\n",
       "  \"CSV\"    => v\"0.5.14\"\n",
       "  \"IJulia\" => v\"1.21.1\""
      ]
     },
     "execution_count": 13,
     "metadata": {},
     "output_type": "execute_result"
    }
   ],
   "source": [
    "Pkg.installed()"
   ]
  },
  {
   "cell_type": "code",
   "execution_count": null,
   "metadata": {},
   "outputs": [],
   "source": []
  }
 ],
 "metadata": {
  "colab": {
   "name": "Day_003_hw.ipynb",
   "provenance": []
  },
  "kernelspec": {
   "display_name": "Julia 1.3.1",
   "language": "julia",
   "name": "julia-1.3"
  },
  "language_info": {
   "file_extension": ".jl",
   "mimetype": "application/julia",
   "name": "julia",
   "version": "1.3.1"
  }
 },
 "nbformat": 4,
 "nbformat_minor": 1
}
