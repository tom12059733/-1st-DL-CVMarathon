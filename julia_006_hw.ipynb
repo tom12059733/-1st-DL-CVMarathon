{
 "cells": [
  {
   "cell_type": "markdown",
   "metadata": {
    "colab_type": "text",
    "id": "xGRRA-qCa1ug"
   },
   "source": [
    "# Julia 函式 (Functions)\n",
    "\n",
    "## 作業 006：身高體重指數 (Body Mass Index; BMI) 計算機\n",
    "\n",
    "身高體重指數 (Body Mass Index; BMI) 是我們常用來衡量健康的指標之一，例如肥胖是否為某一種疾病的致病原因。請用 Julia 函式撰寫 BMI 計算公式，並呼叫函式計算 BMI 值。\n",
    "\n",
    "BMI 計算公式：\n",
    "$$BMI=\\frac{體重}{身高^2}$$\n",
    "其中體重的單位為公斤，身高的單位為公尺。"
   ]
  },
  {
   "cell_type": "code",
   "execution_count": 1,
   "metadata": {
    "colab": {},
    "colab_type": "code",
    "id": "0ENgBuhna1uj"
   },
   "outputs": [
    {
     "data": {
      "text/plain": [
       "bmi (generic function with 1 method)"
      ]
     },
     "execution_count": 1,
     "metadata": {},
     "output_type": "execute_result"
    }
   ],
   "source": [
    "# 定義函式，並在函式中計算 BMI\n",
    "bmi(w,h)=w/h^2\n"
   ]
  },
  {
   "cell_type": "code",
   "execution_count": 2,
   "metadata": {
    "colab": {},
    "colab_type": "code",
    "id": "HjjZi9l8a1up"
   },
   "outputs": [
    {
     "data": {
      "text/plain": [
       "24.302487059714682"
      ]
     },
     "execution_count": 2,
     "metadata": {},
     "output_type": "execute_result"
    }
   ],
   "source": [
    "# 呼叫上面定義的函式，得到計算出來的 BMI\n",
    "mybmi=bmi(77,1.78)\n"
   ]
  },
  {
   "cell_type": "code",
   "execution_count": 3,
   "metadata": {
    "colab": {},
    "colab_type": "code",
    "id": "I1Ap6yqNa1uw"
   },
   "outputs": [
    {
     "data": {
      "text/plain": [
       "21.230572023714146"
      ]
     },
     "execution_count": 3,
     "metadata": {},
     "output_type": "execute_result"
    }
   ],
   "source": [
    "# 可再次呼叫上面定義的函式，計算其他人的 BMI\n",
    "mifebim=bmi(53,1.58)\n"
   ]
  },
  {
   "cell_type": "code",
   "execution_count": null,
   "metadata": {
    "colab": {},
    "colab_type": "code",
    "id": "GjUEXOega1u1"
   },
   "outputs": [],
   "source": []
  }
 ],
 "metadata": {
  "colab": {
   "name": "julia_006_hw.ipynb",
   "provenance": []
  },
  "kernelspec": {
   "display_name": "Julia 1.3.1",
   "language": "julia",
   "name": "julia-1.3"
  },
  "language_info": {
   "file_extension": ".jl",
   "mimetype": "application/julia",
   "name": "julia",
   "version": "1.3.1"
  }
 },
 "nbformat": 4,
 "nbformat_minor": 4
}
