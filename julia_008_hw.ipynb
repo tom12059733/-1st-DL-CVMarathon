{
 "cells": [
  {
   "cell_type": "markdown",
   "metadata": {},
   "source": [
    "# Julia 字元 (Char) 與字串 (String)\n",
    "\n",
    "## Day 008 作業：讀取使用者輸入字串，並印出每個字元\n",
    "\n",
    "1. 使用 `readline()` 函式，讀取使用者輸入之字串。`readline()`是從 console 讀取使用者輸入的方式，讀進來的資料型別為字串，`readline()`的說明可參照官方文件 [Base.readline](https://docs.julialang.org/en/v1/base/io-network/#Base.readline)"
   ]
  },
  {
   "cell_type": "code",
   "execution_count": 1,
   "metadata": {},
   "outputs": [
    {
     "name": "stdout",
     "output_type": "stream",
     "text": [
      "stdin> This is a test.\n"
     ]
    },
    {
     "data": {
      "text/plain": [
       "\"This is a test.\""
      ]
     },
     "execution_count": 1,
     "metadata": {},
     "output_type": "execute_result"
    }
   ],
   "source": [
    "str = readline() "
   ]
  },
  {
   "cell_type": "code",
   "execution_count": 3,
   "metadata": {},
   "outputs": [
    {
     "name": "stdout",
     "output_type": "stream",
     "text": [
      "This is a test.\n"
     ]
    }
   ],
   "source": [
    "println(str)"
   ]
  },
  {
   "cell_type": "code",
   "execution_count": 4,
   "metadata": {},
   "outputs": [
    {
     "name": "stdout",
     "output_type": "stream",
     "text": [
      "字元數目：15\n",
      "索引長度：15\n"
     ]
    }
   ],
   "source": [
    "println(\"字元數目：\", length(str))\n",
    "println(\"索引長度：\", lastindex(str) - firstindex(str) + 1)"
   ]
  },
  {
   "cell_type": "markdown",
   "metadata": {},
   "source": [
    "2. 印出字串中所有字元。"
   ]
  },
  {
   "cell_type": "code",
   "execution_count": 8,
   "metadata": {},
   "outputs": [
    {
     "name": "stdout",
     "output_type": "stream",
     "text": [
      "T\n",
      "h\n",
      "i\n",
      "s\n",
      " \n",
      "i\n",
      "s\n",
      " \n",
      "a\n",
      " \n",
      "t\n",
      "e\n",
      "s\n",
      "t\n",
      ".\n"
     ]
    }
   ],
   "source": [
    "# 列出原先字串中的每個字元\n",
    "\n",
    "\n",
    "for j in 1:length(str)\n",
    "    println(str[j])  \n",
    "end\n"
   ]
  },
  {
   "cell_type": "code",
   "execution_count": null,
   "metadata": {},
   "outputs": [],
   "source": []
  }
 ],
 "metadata": {
  "kernelspec": {
   "display_name": "Julia 1.3.1",
   "language": "julia",
   "name": "julia-1.3"
  },
  "language_info": {
   "file_extension": ".jl",
   "mimetype": "application/julia",
   "name": "julia",
   "version": "1.3.1"
  }
 },
 "nbformat": 4,
 "nbformat_minor": 4
}
