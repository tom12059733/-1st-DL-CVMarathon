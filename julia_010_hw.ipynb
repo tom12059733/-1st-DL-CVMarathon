{
 "cells": [
  {
   "cell_type": "markdown",
   "metadata": {
    "colab_type": "text",
    "id": "7BtseMUwzMw6"
   },
   "source": [
    "# 集合 (Collection) 型別：元組 (Tuple) 、Pair、字典 (Dict)、與 Set\n",
    "\n",
    "## Day 010 作業：計算字串中各宇元出現的次數\n",
    "\n",
    "今天的作業請大家計算字串中，各字元 (包含標點符號與換行符號) 出現的次數。範例解答將以字典 (Dict) 示範，將出現在字串中的字元作為 key，字元每出現一次就將對應的 value 次數加 1。最後，印出各字元及出現的次數。\n",
    "\n",
    "【提示】要判斷字典中某個 key 是否存在，可以呼叫 `hashkey(字典, key)`，若 key 存在的話就會回傳 `true`。使用範例請參閱官方文件 [https://docs.julialang.org/en/v1/base/collections/#Base.haskey](https://docs.julialang.org/en/v1/base/collections/#Base.haskey)"
   ]
  },
  {
   "cell_type": "code",
   "execution_count": 80,
   "metadata": {
    "colab": {},
    "colab_type": "code",
    "id": "2F_ZiR34zMw7",
    "outputId": "ecdf19de-e303-44a3-e632-58b8fe6801e7"
   },
   "outputs": [
    {
     "data": {
      "text/plain": [
       "\"永和有永和路，中和也有永和路，\\n中和有中和路，永和也有中和路；\\n中和的中和路有接永和的中和路，\\n永和的永和路沒接中和的永和路；\\n永和的中和路有接永和的永和路，\\n中和的永和路沒接中和的中和路。\""
      ]
     },
     "execution_count": 80,
     "metadata": {},
     "output_type": "execute_result"
    }
   ],
   "source": [
    "str = \"永和有永和路，中和也有永和路，\n",
    "中和有中和路，永和也有中和路；\n",
    "中和的中和路有接永和的中和路，\n",
    "永和的永和路沒接中和的永和路；\n",
    "永和的中和路有接永和的永和路，\n",
    "中和的永和路沒接中和的中和路。\""
   ]
  },
  {
   "cell_type": "code",
   "execution_count": 81,
   "metadata": {},
   "outputs": [
    {
     "data": {
      "text/plain": [
       "Dict{Char,Int64} with 1 entry:\n",
       "  '永… => 0"
      ]
     },
     "execution_count": 81,
     "metadata": {},
     "output_type": "execute_result"
    }
   ],
   "source": [
    "d=Dict(str[1]=>0)"
   ]
  },
  {
   "cell_type": "code",
   "execution_count": 82,
   "metadata": {},
   "outputs": [
    {
     "name": "stdout",
     "output_type": "stream",
     "text": [
      "字元數目：95\n",
      "最後索引：273\n",
      "第1索引：1\n",
      "索引長度：273\n"
     ]
    }
   ],
   "source": [
    "println(\"字元數目：\", length(str))\n",
    "println(\"最後索引：\", lastindex(str))\n",
    "println(\"第1索引：\", firstindex(str))\n",
    "println(\"索引長度：\", lastindex(str) - firstindex(str) + 1)"
   ]
  },
  {
   "cell_type": "code",
   "execution_count": 83,
   "metadata": {},
   "outputs": [
    {
     "name": "stdout",
     "output_type": "stream",
     "text": [
      "Dict('和' => 24,'有' => 6,'路' => 12,'中' => 12,'也' => 2,'\\n' => 5,'，' => 5,'接' => 4,'的' => 8,'沒' => 2,'；' => 2,'永' => 12)\n"
     ]
    }
   ],
   "source": [
    "i = 1\n",
    "\n",
    "while i < lastindex(str)\n",
    "    \n",
    "\n",
    "    if haskey(d,str[i])==true\n",
    "             \n",
    "        d[str[i]]= d[str[i]]+1\n",
    "    else\n",
    "        d[str[i]]=1\n",
    "    end\n",
    "\n",
    "    \n",
    "    i = nextind(str, i)\n",
    "\n",
    "    \n",
    "end\n",
    "\n",
    "println(d)"
   ]
  },
  {
   "cell_type": "code",
   "execution_count": 84,
   "metadata": {},
   "outputs": [
    {
     "data": {
      "text/plain": [
       "Dict{Char,Int64} with 12 entries:\n",
       "  '和'  => 24\n",
       "  '有'  => 6\n",
       "  '路'  => 12\n",
       "  '中'  => 12\n",
       "  '也'  => 2\n",
       "  '\\n' => 5\n",
       "  '，'  => 5\n",
       "  '接'  => 4\n",
       "  '的'  => 8\n",
       "  '沒'  => 2\n",
       "  '；'  => 2\n",
       "  '永'  => 12"
      ]
     },
     "execution_count": 84,
     "metadata": {},
     "output_type": "execute_result"
    }
   ],
   "source": [
    "d"
   ]
  },
  {
   "cell_type": "code",
   "execution_count": null,
   "metadata": {},
   "outputs": [],
   "source": []
  }
 ],
 "metadata": {
  "@webio": {
   "lastCommId": null,
   "lastKernelId": null
  },
  "colab": {
   "name": "julia_010_hw.ipynb",
   "provenance": []
  },
  "kernelspec": {
   "display_name": "Julia 1.3.1",
   "language": "julia",
   "name": "julia-1.3"
  },
  "language_info": {
   "file_extension": ".jl",
   "mimetype": "application/julia",
   "name": "julia",
   "version": "1.3.1"
  }
 },
 "nbformat": 4,
 "nbformat_minor": 1
}
