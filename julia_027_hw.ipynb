{
 "cells": [
  {
   "cell_type": "markdown",
   "metadata": {},
   "source": [
    "# Julia 機器學習：GLM 線性迴歸\n",
    "\n",
    "## 作業 027：波士頓房價預測資料集\n",
    "\n",
    "請使用 GLM 中的模型，建立一個預測模型來預測波士頓的房價。"
   ]
  },
  {
   "cell_type": "code",
   "execution_count": 2,
   "metadata": {},
   "outputs": [],
   "source": [
    "using GLM, RDatasets, MLDataUtils"
   ]
  },
  {
   "cell_type": "markdown",
   "metadata": {},
   "source": [
    "## 讀取資料"
   ]
  },
  {
   "cell_type": "code",
   "execution_count": 3,
   "metadata": {},
   "outputs": [
    {
     "data": {
      "text/html": [
       "<table class=\"data-frame\"><thead><tr><th></th><th>Crim</th><th>Zn</th><th>Indus</th><th>Chas</th><th>NOx</th><th>Rm</th><th>Age</th><th>Dis</th><th>Rad</th><th>Tax</th></tr><tr><th></th><th>Float64</th><th>Float64</th><th>Float64</th><th>Int64</th><th>Float64</th><th>Float64</th><th>Float64</th><th>Float64</th><th>Int64</th><th>Int64</th></tr></thead><tbody><p>10 rows × 14 columns (omitted printing of 4 columns)</p><tr><th>1</th><td>0.00632</td><td>18.0</td><td>2.31</td><td>0</td><td>0.538</td><td>6.575</td><td>65.2</td><td>4.09</td><td>1</td><td>296</td></tr><tr><th>2</th><td>0.02731</td><td>0.0</td><td>7.07</td><td>0</td><td>0.469</td><td>6.421</td><td>78.9</td><td>4.9671</td><td>2</td><td>242</td></tr><tr><th>3</th><td>0.02729</td><td>0.0</td><td>7.07</td><td>0</td><td>0.469</td><td>7.185</td><td>61.1</td><td>4.9671</td><td>2</td><td>242</td></tr><tr><th>4</th><td>0.03237</td><td>0.0</td><td>2.18</td><td>0</td><td>0.458</td><td>6.998</td><td>45.8</td><td>6.0622</td><td>3</td><td>222</td></tr><tr><th>5</th><td>0.06905</td><td>0.0</td><td>2.18</td><td>0</td><td>0.458</td><td>7.147</td><td>54.2</td><td>6.0622</td><td>3</td><td>222</td></tr><tr><th>6</th><td>0.02985</td><td>0.0</td><td>2.18</td><td>0</td><td>0.458</td><td>6.43</td><td>58.7</td><td>6.0622</td><td>3</td><td>222</td></tr><tr><th>7</th><td>0.08829</td><td>12.5</td><td>7.87</td><td>0</td><td>0.524</td><td>6.012</td><td>66.6</td><td>5.5605</td><td>5</td><td>311</td></tr><tr><th>8</th><td>0.14455</td><td>12.5</td><td>7.87</td><td>0</td><td>0.524</td><td>6.172</td><td>96.1</td><td>5.9505</td><td>5</td><td>311</td></tr><tr><th>9</th><td>0.21124</td><td>12.5</td><td>7.87</td><td>0</td><td>0.524</td><td>5.631</td><td>100.0</td><td>6.0821</td><td>5</td><td>311</td></tr><tr><th>10</th><td>0.17004</td><td>12.5</td><td>7.87</td><td>0</td><td>0.524</td><td>6.004</td><td>85.9</td><td>6.5921</td><td>5</td><td>311</td></tr></tbody></table>"
      ],
      "text/latex": [
       "\\begin{tabular}{r|ccccccccccc}\n",
       "\t& Crim & Zn & Indus & Chas & NOx & Rm & Age & Dis & Rad & Tax & \\\\\n",
       "\t\\hline\n",
       "\t& Float64 & Float64 & Float64 & Int64 & Float64 & Float64 & Float64 & Float64 & Int64 & Int64 & \\\\\n",
       "\t\\hline\n",
       "\t1 & 0.00632 & 18.0 & 2.31 & 0 & 0.538 & 6.575 & 65.2 & 4.09 & 1 & 296 & $\\dots$ \\\\\n",
       "\t2 & 0.02731 & 0.0 & 7.07 & 0 & 0.469 & 6.421 & 78.9 & 4.9671 & 2 & 242 & $\\dots$ \\\\\n",
       "\t3 & 0.02729 & 0.0 & 7.07 & 0 & 0.469 & 7.185 & 61.1 & 4.9671 & 2 & 242 & $\\dots$ \\\\\n",
       "\t4 & 0.03237 & 0.0 & 2.18 & 0 & 0.458 & 6.998 & 45.8 & 6.0622 & 3 & 222 & $\\dots$ \\\\\n",
       "\t5 & 0.06905 & 0.0 & 2.18 & 0 & 0.458 & 7.147 & 54.2 & 6.0622 & 3 & 222 & $\\dots$ \\\\\n",
       "\t6 & 0.02985 & 0.0 & 2.18 & 0 & 0.458 & 6.43 & 58.7 & 6.0622 & 3 & 222 & $\\dots$ \\\\\n",
       "\t7 & 0.08829 & 12.5 & 7.87 & 0 & 0.524 & 6.012 & 66.6 & 5.5605 & 5 & 311 & $\\dots$ \\\\\n",
       "\t8 & 0.14455 & 12.5 & 7.87 & 0 & 0.524 & 6.172 & 96.1 & 5.9505 & 5 & 311 & $\\dots$ \\\\\n",
       "\t9 & 0.21124 & 12.5 & 7.87 & 0 & 0.524 & 5.631 & 100.0 & 6.0821 & 5 & 311 & $\\dots$ \\\\\n",
       "\t10 & 0.17004 & 12.5 & 7.87 & 0 & 0.524 & 6.004 & 85.9 & 6.5921 & 5 & 311 & $\\dots$ \\\\\n",
       "\\end{tabular}\n"
      ],
      "text/plain": [
       "10×14 DataFrame. Omitted printing of 7 columns\n",
       "│ Row │ Crim    │ Zn      │ Indus   │ Chas  │ NOx     │ Rm      │ Age     │\n",
       "│     │ \u001b[90mFloat64\u001b[39m │ \u001b[90mFloat64\u001b[39m │ \u001b[90mFloat64\u001b[39m │ \u001b[90mInt64\u001b[39m │ \u001b[90mFloat64\u001b[39m │ \u001b[90mFloat64\u001b[39m │ \u001b[90mFloat64\u001b[39m │\n",
       "├─────┼─────────┼─────────┼─────────┼───────┼─────────┼─────────┼─────────┤\n",
       "│ 1   │ 0.00632 │ 18.0    │ 2.31    │ 0     │ 0.538   │ 6.575   │ 65.2    │\n",
       "│ 2   │ 0.02731 │ 0.0     │ 7.07    │ 0     │ 0.469   │ 6.421   │ 78.9    │\n",
       "│ 3   │ 0.02729 │ 0.0     │ 7.07    │ 0     │ 0.469   │ 7.185   │ 61.1    │\n",
       "│ 4   │ 0.03237 │ 0.0     │ 2.18    │ 0     │ 0.458   │ 6.998   │ 45.8    │\n",
       "│ 5   │ 0.06905 │ 0.0     │ 2.18    │ 0     │ 0.458   │ 7.147   │ 54.2    │\n",
       "│ 6   │ 0.02985 │ 0.0     │ 2.18    │ 0     │ 0.458   │ 6.43    │ 58.7    │\n",
       "│ 7   │ 0.08829 │ 12.5    │ 7.87    │ 0     │ 0.524   │ 6.012   │ 66.6    │\n",
       "│ 8   │ 0.14455 │ 12.5    │ 7.87    │ 0     │ 0.524   │ 6.172   │ 96.1    │\n",
       "│ 9   │ 0.21124 │ 12.5    │ 7.87    │ 0     │ 0.524   │ 5.631   │ 100.0   │\n",
       "│ 10  │ 0.17004 │ 12.5    │ 7.87    │ 0     │ 0.524   │ 6.004   │ 85.9    │"
      ]
     },
     "execution_count": 3,
     "metadata": {},
     "output_type": "execute_result"
    }
   ],
   "source": [
    "boston = dataset(\"MASS\", \"Boston\")\n",
    "first(boston, 10)"
   ]
  },
  {
   "cell_type": "code",
   "execution_count": 5,
   "metadata": {},
   "outputs": [
    {
     "name": "stdout",
     "output_type": "stream",
     "text": [
      "506×14 DataFrame\n",
      "│ Row │ Crim    │ Zn      │ Indus   │ Chas  │ NOx     │ Rm      │ Age     │\n",
      "│     │ \u001b[90mFloat64\u001b[39m │ \u001b[90mFloat64\u001b[39m │ \u001b[90mFloat64\u001b[39m │ \u001b[90mInt64\u001b[39m │ \u001b[90mFloat64\u001b[39m │ \u001b[90mFloat64\u001b[39m │ \u001b[90mFloat64\u001b[39m │\n",
      "├─────┼─────────┼─────────┼─────────┼───────┼─────────┼─────────┼─────────┤\n",
      "│ 1   │ 0.00632 │ 18.0    │ 2.31    │ 0     │ 0.538   │ 6.575   │ 65.2    │\n",
      "│ 2   │ 0.02731 │ 0.0     │ 7.07    │ 0     │ 0.469   │ 6.421   │ 78.9    │\n",
      "│ 3   │ 0.02729 │ 0.0     │ 7.07    │ 0     │ 0.469   │ 7.185   │ 61.1    │\n",
      "│ 4   │ 0.03237 │ 0.0     │ 2.18    │ 0     │ 0.458   │ 6.998   │ 45.8    │\n",
      "│ 5   │ 0.06905 │ 0.0     │ 2.18    │ 0     │ 0.458   │ 7.147   │ 54.2    │\n",
      "│ 6   │ 0.02985 │ 0.0     │ 2.18    │ 0     │ 0.458   │ 6.43    │ 58.7    │\n",
      "│ 7   │ 0.08829 │ 12.5    │ 7.87    │ 0     │ 0.524   │ 6.012   │ 66.6    │\n",
      "│ 8   │ 0.14455 │ 12.5    │ 7.87    │ 0     │ 0.524   │ 6.172   │ 96.1    │\n",
      "│ 9   │ 0.21124 │ 12.5    │ 7.87    │ 0     │ 0.524   │ 5.631   │ 100.0   │\n",
      "│ 10  │ 0.17004 │ 12.5    │ 7.87    │ 0     │ 0.524   │ 6.004   │ 85.9    │\n",
      "⋮\n",
      "│ 496 │ 0.17899 │ 0.0     │ 9.69    │ 0     │ 0.585   │ 5.67    │ 28.8    │\n",
      "│ 497 │ 0.2896  │ 0.0     │ 9.69    │ 0     │ 0.585   │ 5.39    │ 72.9    │\n",
      "│ 498 │ 0.26838 │ 0.0     │ 9.69    │ 0     │ 0.585   │ 5.794   │ 70.6    │\n",
      "│ 499 │ 0.23912 │ 0.0     │ 9.69    │ 0     │ 0.585   │ 6.019   │ 65.3    │\n",
      "│ 500 │ 0.17783 │ 0.0     │ 9.69    │ 0     │ 0.585   │ 5.569   │ 73.5    │\n",
      "│ 501 │ 0.22438 │ 0.0     │ 9.69    │ 0     │ 0.585   │ 6.027   │ 79.7    │\n",
      "│ 502 │ 0.06263 │ 0.0     │ 11.93   │ 0     │ 0.573   │ 6.593   │ 69.1    │\n",
      "│ 503 │ 0.04527 │ 0.0     │ 11.93   │ 0     │ 0.573   │ 6.12    │ 76.7    │\n",
      "│ 504 │ 0.06076 │ 0.0     │ 11.93   │ 0     │ 0.573   │ 6.976   │ 91.0    │\n",
      "│ 505 │ 0.10959 │ 0.0     │ 11.93   │ 0     │ 0.573   │ 6.794   │ 89.3    │\n",
      "│ 506 │ 0.04741 │ 0.0     │ 11.93   │ 0     │ 0.573   │ 6.03    │ 80.8    │\n",
      "\n",
      "│ Row │ Dis     │ Rad   │ Tax   │ PTRatio │ Black   │ LStat   │ MedV    │\n",
      "│     │ \u001b[90mFloat64\u001b[39m │ \u001b[90mInt64\u001b[39m │ \u001b[90mInt64\u001b[39m │ \u001b[90mFloat64\u001b[39m │ \u001b[90mFloat64\u001b[39m │ \u001b[90mFloat64\u001b[39m │ \u001b[90mFloat64\u001b[39m │\n",
      "├─────┼─────────┼───────┼───────┼─────────┼─────────┼─────────┼─────────┤\n",
      "│ 1   │ 4.09    │ 1     │ 296   │ 15.3    │ 396.9   │ 4.98    │ 24.0    │\n",
      "│ 2   │ 4.9671  │ 2     │ 242   │ 17.8    │ 396.9   │ 9.14    │ 21.6    │\n",
      "│ 3   │ 4.9671  │ 2     │ 242   │ 17.8    │ 392.83  │ 4.03    │ 34.7    │\n",
      "│ 4   │ 6.0622  │ 3     │ 222   │ 18.7    │ 394.63  │ 2.94    │ 33.4    │\n",
      "│ 5   │ 6.0622  │ 3     │ 222   │ 18.7    │ 396.9   │ 5.33    │ 36.2    │\n",
      "│ 6   │ 6.0622  │ 3     │ 222   │ 18.7    │ 394.12  │ 5.21    │ 28.7    │\n",
      "│ 7   │ 5.5605  │ 5     │ 311   │ 15.2    │ 395.6   │ 12.43   │ 22.9    │\n",
      "│ 8   │ 5.9505  │ 5     │ 311   │ 15.2    │ 396.9   │ 19.15   │ 27.1    │\n",
      "│ 9   │ 6.0821  │ 5     │ 311   │ 15.2    │ 386.63  │ 29.93   │ 16.5    │\n",
      "│ 10  │ 6.5921  │ 5     │ 311   │ 15.2    │ 386.71  │ 17.1    │ 18.9    │\n",
      "⋮\n",
      "│ 496 │ 2.7986  │ 6     │ 391   │ 19.2    │ 393.29  │ 17.6    │ 23.1    │\n",
      "│ 497 │ 2.7986  │ 6     │ 391   │ 19.2    │ 396.9   │ 21.14   │ 19.7    │\n",
      "│ 498 │ 2.8927  │ 6     │ 391   │ 19.2    │ 396.9   │ 14.1    │ 18.3    │\n",
      "│ 499 │ 2.4091  │ 6     │ 391   │ 19.2    │ 396.9   │ 12.92   │ 21.2    │\n",
      "│ 500 │ 2.3999  │ 6     │ 391   │ 19.2    │ 395.77  │ 15.1    │ 17.5    │\n",
      "│ 501 │ 2.4982  │ 6     │ 391   │ 19.2    │ 396.9   │ 14.33   │ 16.8    │\n",
      "│ 502 │ 2.4786  │ 1     │ 273   │ 21.0    │ 391.99  │ 9.67    │ 22.4    │\n",
      "│ 503 │ 2.2875  │ 1     │ 273   │ 21.0    │ 396.9   │ 9.08    │ 20.6    │\n",
      "│ 504 │ 2.1675  │ 1     │ 273   │ 21.0    │ 396.9   │ 5.64    │ 23.9    │\n",
      "│ 505 │ 2.3889  │ 1     │ 273   │ 21.0    │ 393.45  │ 6.48    │ 22.0    │\n",
      "│ 506 │ 2.505   │ 1     │ 273   │ 21.0    │ 396.9   │ 7.88    │ 11.9    │"
     ]
    }
   ],
   "source": [
    "show(boston,allcols=true)"
   ]
  },
  {
   "cell_type": "code",
   "execution_count": 18,
   "metadata": {},
   "outputs": [
    {
     "data": {
      "text/plain": [
       "StatsModels.TableRegressionModel{LinearModel{GLM.LmResp{Array{Float64,1}},GLM.DensePredChol{Float64,LinearAlgebra.Cholesky{Float64,Array{Float64,2}}}},Array{Float64,2}}\n",
       "\n",
       "MedV ~ 1 + Crim + Zn + Indus + Chas + NOx + Rm + Age + Dis + Rad + Tax + PTRatio + Black + LStat\n",
       "\n",
       "Coefficients:\n",
       "────────────────────────────────────────────────────────────────────────────────────────\n",
       "                  Estimate  Std. Error      t value  Pr(>|t|)     Lower 95%    Upper 95%\n",
       "────────────────────────────────────────────────────────────────────────────────────────\n",
       "(Intercept)   36.4595       5.10346       7.14407      <1e-11   26.4322       46.4868   \n",
       "Crim          -0.108011     0.032865     -3.28652      0.0011   -0.172584     -0.0434383\n",
       "Zn             0.0464205    0.0137275     3.38158      0.0008    0.0194488     0.0733921\n",
       "Indus          0.0205586    0.0614957     0.33431      0.7383   -0.100268      0.141385 \n",
       "Chas           2.68673      0.86158       3.11838      0.0019    0.993904      4.37956  \n",
       "NOx          -17.7666       3.81974      -4.65126      <1e-5   -25.2716      -10.2616   \n",
       "Rm             3.80987      0.417925      9.11614      <1e-17    2.98873       4.631    \n",
       "Age            0.000692225  0.0132098     0.0524024    0.9582   -0.0252623     0.0266468\n",
       "Dis           -1.47557      0.199455     -7.398        <1e-12   -1.86745      -1.08368  \n",
       "Rad            0.306049     0.0663464     4.6129       <1e-5     0.175692      0.436407 \n",
       "Tax           -0.0123346    0.00376054   -3.28001      0.0011   -0.0197233    -0.0049459\n",
       "PTRatio       -0.952747     0.130827     -7.28251      <1e-11   -1.2098       -0.695699 \n",
       "Black          0.00931168   0.00268596    3.46679      0.0006    0.00403431    0.0145891\n",
       "LStat         -0.524758     0.0507153   -10.3471       <1e-22   -0.624404     -0.425113 \n",
       "────────────────────────────────────────────────────────────────────────────────────────"
      ]
     },
     "execution_count": 18,
     "metadata": {},
     "output_type": "execute_result"
    }
   ],
   "source": [
    "model = GLM.lm(@formula(MedV ~ Crim + Zn + Indus + Chas +NOx + Rm + Age + Dis + Rad + Tax + PTRatio + Black + LStat), boston)"
   ]
  },
  {
   "cell_type": "code",
   "execution_count": 19,
   "metadata": {},
   "outputs": [
    {
     "data": {
      "text/plain": [
       "14-element Array{Float64,1}:\n",
       "  36.45948838509059     \n",
       "  -0.10801135783679723  \n",
       "   0.046420458366881294 \n",
       "   0.020558626367130694 \n",
       "   2.6867338193446697   \n",
       " -17.766611228302203    \n",
       "   3.809865206809408    \n",
       "   0.0006922246403507551\n",
       "  -1.4755668456001905   \n",
       "   0.30604947898523116  \n",
       "  -0.012334593916577673 \n",
       "  -0.9527472317073756   \n",
       "   0.009311683273794289 \n",
       "  -0.5247583778554775   "
      ]
     },
     "execution_count": 19,
     "metadata": {},
     "output_type": "execute_result"
    }
   ],
   "source": [
    "intercept, slope = coef(model)"
   ]
  },
  {
   "cell_type": "code",
   "execution_count": 20,
   "metadata": {},
   "outputs": [
    {
     "data": {
      "text/plain": [
       "0.7406426641094094"
      ]
     },
     "execution_count": 20,
     "metadata": {},
     "output_type": "execute_result"
    }
   ],
   "source": [
    "GLM.r2(model)"
   ]
  },
  {
   "cell_type": "code",
   "execution_count": 21,
   "metadata": {},
   "outputs": [
    {
     "data": {
      "text/plain": [
       "0.7337897263724629"
      ]
     },
     "execution_count": 21,
     "metadata": {},
     "output_type": "execute_result"
    }
   ],
   "source": [
    "GLM.adjr2(model)"
   ]
  },
  {
   "cell_type": "code",
   "execution_count": 22,
   "metadata": {},
   "outputs": [
    {
     "data": {
      "text/plain": [
       "StatsModels.TableRegressionModel{LinearModel{GLM.LmResp{Array{Float64,1}},GLM.DensePredChol{Float64,LinearAlgebra.Cholesky{Float64,Array{Float64,2}}}},Array{Float64,2}}\n",
       "\n",
       "MedV ~ 1 + Crim + Black\n",
       "\n",
       "Coefficients:\n",
       "──────────────────────────────────────────────────────────────────────────────\n",
       "              Estimate  Std. Error   t value  Pr(>|t|)   Lower 95%   Upper 95%\n",
       "──────────────────────────────────────────────────────────────────────────────\n",
       "(Intercept)  15.952     1.67499      9.52368    <1e-19  12.6612     19.2429   \n",
       "Crim         -0.326274  0.0464781   -7.01996    <1e-11  -0.417589   -0.234959 \n",
       "Black         0.021756  0.00437903   4.96821    <1e-6    0.0131525   0.0303594\n",
       "──────────────────────────────────────────────────────────────────────────────"
      ]
     },
     "execution_count": 22,
     "metadata": {},
     "output_type": "execute_result"
    }
   ],
   "source": [
    "model2 = GLM.lm(@formula(MedV ~ Crim + Black), boston)"
   ]
  },
  {
   "cell_type": "code",
   "execution_count": 23,
   "metadata": {},
   "outputs": [
    {
     "data": {
      "text/plain": [
       "3-element Array{Float64,1}:\n",
       " 15.95202176573263   \n",
       " -0.326274086580733  \n",
       "  0.02175595352743056"
      ]
     },
     "execution_count": 23,
     "metadata": {},
     "output_type": "execute_result"
    }
   ],
   "source": [
    "intercept, slope = coef(model2)"
   ]
  },
  {
   "cell_type": "code",
   "execution_count": 24,
   "metadata": {},
   "outputs": [
    {
     "data": {
      "text/plain": [
       "0.19050387880160635"
      ]
     },
     "execution_count": 24,
     "metadata": {},
     "output_type": "execute_result"
    }
   ],
   "source": [
    "GLM.r2(model2)"
   ]
  },
  {
   "cell_type": "code",
   "execution_count": 25,
   "metadata": {},
   "outputs": [
    {
     "data": {
      "text/plain": [
       "0.18728520635151336"
      ]
     },
     "execution_count": 25,
     "metadata": {},
     "output_type": "execute_result"
    }
   ],
   "source": [
    "GLM.adjr2(model2)"
   ]
  },
  {
   "cell_type": "code",
   "execution_count": null,
   "metadata": {},
   "outputs": [],
   "source": []
  }
 ],
 "metadata": {
  "kernelspec": {
   "display_name": "Julia 1.3.1",
   "language": "julia",
   "name": "julia-1.3"
  },
  "language_info": {
   "file_extension": ".jl",
   "mimetype": "application/julia",
   "name": "julia",
   "version": "1.3.1"
  }
 },
 "nbformat": 4,
 "nbformat_minor": 4
}
